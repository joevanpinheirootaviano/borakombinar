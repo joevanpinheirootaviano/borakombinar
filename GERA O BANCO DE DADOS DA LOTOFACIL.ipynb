{
 "cells": [
  {
   "cell_type": "code",
   "execution_count": 1,
   "id": "9973c2c4",
   "metadata": {},
   "outputs": [
    {
     "name": "stdout",
     "output_type": "stream",
     "text": [
      "Número total de jogos gerados: 3268760\n"
     ]
    }
   ],
   "source": [
    "import sqlite3\n",
    "from itertools import combinations\n",
    "import os\n",
    "\n",
    "# Criar o diretório se não existir\n",
    "if not os.path.exists('BD'):\n",
    "    os.makedirs('BD')\n",
    "\n",
    "# Conectar ao banco de dados\n",
    "conn = sqlite3.connect('BD/lotofacil.db')\n",
    "cursor = conn.cursor()\n",
    "\n",
    "# Criar tabela\n",
    "cursor.execute('''\n",
    "    CREATE TABLE IF NOT EXISTS jogos (\n",
    "        id INTEGER PRIMARY KEY,\n",
    "        numero1 INTEGER,\n",
    "        numero2 INTEGER,\n",
    "        numero3 INTEGER,\n",
    "        numero4 INTEGER,\n",
    "        numero5 INTEGER,\n",
    "        numero6 INTEGER,\n",
    "        numero7 INTEGER,\n",
    "        numero8 INTEGER,\n",
    "        numero9 INTEGER,\n",
    "        numero10 INTEGER,\n",
    "        numero11 INTEGER,\n",
    "        numero12 INTEGER,\n",
    "        numero13 INTEGER,\n",
    "        numero14 INTEGER,\n",
    "        numero15 INTEGER\n",
    "    )\n",
    "''')\n",
    "\n",
    "# Inserir todas as combinações na tabela\n",
    "numeros_possiveis = list(range(1, 26))\n",
    "todas_combinacoes = list(combinations(numeros_possiveis, 15))\n",
    "\n",
    "for combinacao in todas_combinacoes:\n",
    "    cursor.execute('INSERT INTO jogos VALUES (NULL, ?, ?, ?, ?, ?, ?, ?, ?, ?, ?, ?, ?, ?, ?, ?)', combinacao)\n",
    "\n",
    "# Commit e fechar a conexão\n",
    "conn.commit()\n",
    "conn.close()\n",
    "\n",
    "# Imprimir o número total de jogos gerados\n",
    "print(\"Número total de jogos gerados:\", len(todas_combinacoes))\n"
   ]
  },
  {
   "cell_type": "code",
   "execution_count": null,
   "id": "24fc079c",
   "metadata": {},
   "outputs": [],
   "source": []
  }
 ],
 "metadata": {
  "kernelspec": {
   "display_name": "Python 3 (ipykernel)",
   "language": "python",
   "name": "python3"
  },
  "language_info": {
   "codemirror_mode": {
    "name": "ipython",
    "version": 3
   },
   "file_extension": ".py",
   "mimetype": "text/x-python",
   "name": "python",
   "nbconvert_exporter": "python",
   "pygments_lexer": "ipython3",
   "version": "3.11.5"
  }
 },
 "nbformat": 4,
 "nbformat_minor": 5
}
